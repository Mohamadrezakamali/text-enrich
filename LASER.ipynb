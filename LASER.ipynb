{
  "cells": [
    {
      "cell_type": "markdown",
      "metadata": {
        "id": "Fj48876bm7-X"
      },
      "source": [
        "# Installing Requirements"
      ]
    },
    {
      "cell_type": "code",
      "execution_count": null,
      "metadata": {
        "id": "ncYaqdB-m3K0"
      },
      "outputs": [],
      "source": [
        "!pip install torch trochvision"
      ]
    },
    {
      "cell_type": "code",
      "execution_count": null,
      "metadata": {
        "id": "PV_gLUP3oeXK"
      },
      "outputs": [],
      "source": [
        "!pip install laserembeddings"
      ]
    },
    {
      "cell_type": "code",
      "execution_count": 4,
      "metadata": {
        "id": "zJI_Ds0CtJBc"
      },
      "outputs": [],
      "source": [
        "import pandas as pd\n",
        "import random as rd\n",
        "import json\n",
        "import numpy as np\n",
        "import re\n",
        "from sklearn.neighbors import NearestNeighbors\n"
      ]
    },
    {
      "cell_type": "code",
      "execution_count": null,
      "metadata": {
        "id": "73VYHDXMo2HF"
      },
      "outputs": [],
      "source": [
        "!python -m laserembeddings download-models"
      ]
    },
    {
      "cell_type": "markdown",
      "metadata": {
        "id": "eQyC-UEZplbu"
      },
      "source": [
        "# Multilingual Embedding with LASER"
      ]
    },
    {
      "cell_type": "code",
      "source": [
        "from laserembeddings import Laser\n",
        "\n",
        "laser = Laser()"
      ],
      "metadata": {
        "id": "eMFxUnVcBKuQ"
      },
      "execution_count": 6,
      "outputs": []
    },
    {
      "cell_type": "markdown",
      "metadata": {
        "id": "8XcgfdIXuEL4"
      },
      "source": [
        "# Input data set embbeding\n",
        "\n",
        "read input data set and create the input table"
      ]
    },
    {
      "cell_type": "code",
      "execution_count": 7,
      "metadata": {
        "id": "IoAJDpOKtRVb"
      },
      "outputs": [],
      "source": [
        "data_set_root = \"/content/drive/MyDrive/Text_enrich/datasets/\"\n",
        "input_data = pd.read_csv(data_set_root + \"input_text/input_text.csv\")"
      ]
    },
    {
      "cell_type": "code",
      "execution_count": 9,
      "metadata": {
        "id": "d6SszL9dur4h"
      },
      "outputs": [],
      "source": [
        "columns = [\"input_text\" , \"vector\", \"input_id\"]\n",
        "input_table = pd.DataFrame([], columns=columns)\n",
        "n = 0\n",
        "for sample in list(input_data[\"input_text\"]):\n",
        "  input_table = input_table.append({'input_text':sample,'vector':laser.embed_sentences(sample, 'fa'), 'input_id': n}, ignore_index = True)\n",
        "  n += 1"
      ]
    },
    {
      "cell_type": "code",
      "execution_count": 10,
      "metadata": {
        "colab": {
          "base_uri": "https://localhost:8080/",
          "height": 1000
        },
        "id": "MLsYLKPEvZY4",
        "outputId": "c0ca5911-dea9-4523-a38f-9758dc9060ad"
      },
      "outputs": [
        {
          "output_type": "execute_result",
          "data": {
            "text/plain": [
              "                                           input_text  \\\n",
              "0                      باید حقوق دیگران را رعایت کنیم   \n",
              "1   ادب یکی از صفات اخلاقی نیکو است که انسان باید ...   \n",
              "2                     ما باید از غیبت کردن پرهیز کنیم   \n",
              "3                           باید خاک وطن را دوست داشت   \n",
              "4                نباید براساس ظاهر افراد را قضاوت کرد   \n",
              "5          باید تجارب خود را به افراد دیگر منتقل کنیم   \n",
              "6                تفاوت قائل شدن بین انسان‌ها درست است   \n",
              "7                                   ثروت چیز خوبی است   \n",
              "8                       باید قبل از سخن گفتن فکر کرد.   \n",
              "9                 باید قدردان دارایی‌های خودمان باشیم   \n",
              "10  نباید عیبی که خودمان داریم را به دیگران نسبت دهیم   \n",
              "11                             باید به یتیمان کمک کرد   \n",
              "12              انسان واقعی در برابر ظلم سکوت نمی‌کند   \n",
              "13                                  باید بخشنده باشیم   \n",
              "14                       باید حق‌جو وعدالت‌پیشه باشیم   \n",
              "15          کنترل نکردن زبان انسان را بی‌ارزش می‌کند.   \n",
              "16             نباید از دیگران درخواست های متعدد داشت   \n",
              "17  آزار دیگران یکی از صفات مذموم است که باید از آ...   \n",
              "18                                  نباید اندوهگین شد   \n",
              "19                      باید اهل یادگیری و دانش باشیم   \n",
              "20                                    باید مهربان بود   \n",
              "21                     آخرت را بر دنیا باید ترجیح داد   \n",
              "22        میزان موفقیت به اندازه میزان رنج و تلاش است   \n",
              "23             باید فرزندان خود را به خوبی تربیت کنیم   \n",
              "24           باید در برابر مشکلات استقامت داشته باشیم   \n",
              "25  بخشی از زمان هر روز را باید به تفریح و بخش دیگ...   \n",
              "26                  انسان نباید فخر فروشی داشته باشد.   \n",
              "27  در کار خیر باید شتاب کرد و بدی را به تاخیر اند...   \n",
              "28                                 باید شکرگزار باشیم   \n",
              "29                     باید به زیر دستان احترام گذاشت   \n",
              "30                                  نباید مغرور باشیم   \n",
              "31                       باید خطاهای دیگران را ببخشیم   \n",
              "32                                   باید کم گویی کرد   \n",
              "33                       نباید در خوردن زیاده‌روی کرد   \n",
              "34                     باید به قلب و احساسات توجه کرد   \n",
              "35                 مردم را باید از کارهای بد باز داشت   \n",
              "36                      باید اهل یاری کردن یکدیگر بود   \n",
              "37                  باید در هنگام پیمان بستن دقت کنیم   \n",
              "38                       در انتخاب دوست باید دقت کنیم   \n",
              "39                       باید وفای به عهد داشته باشیم   \n",
              "40                        باید سعی کنیم نیکو عمل کنیم   \n",
              "41                       صبر یکی از صفات خردمندان است   \n",
              "42                           باید سختی‌ها را تحمل کرد   \n",
              "43  ما باید راست بگوییم حتی اگر به ضرر ما باشد و ن...   \n",
              "44                                    باید خسیس باشیم   \n",
              "45                    باید به پدر و مادر احترام گذاشت   \n",
              "46                    نباید عیب دیگران را بر ملا کنیم   \n",
              "47    هرکاری را می‌توان انجام داد به جز تغییر عادت‌ها   \n",
              "48                            باید از منافق دوری کنیم   \n",
              "49   لزوما رسیدن به چیزی که آرزو داریم به نفع ما نیست   \n",
              "\n",
              "                                               vector input_id  \n",
              "0   [[0.037471067, -0.0001683702, 0.0028694319, 0....        0  \n",
              "1   [[0.011196222, -0.00018183743, 0.0030824505, 0...        1  \n",
              "2   [[0.0028385492, -0.00040278648, 0.0038774477, ...        2  \n",
              "3   [[0.002940607, -0.00023007995, 0.0004807298, 0...        3  \n",
              "4   [[0.0054349084, -0.00022610718, -0.0007558833,...        4  \n",
              "5   [[0.028444888, -0.00019038924, 0.0032034372, 0...        5  \n",
              "6   [[0.01777368, -0.00015634771, 0.0023267695, 0....        6  \n",
              "7   [[0.000940095, -3.025543e-06, 0.002245485, 0.0...        7  \n",
              "8   [[0.0033361597, -0.00017175634, 0.00010727477,...        8  \n",
              "9   [[0.0065571917, -0.0001124546, 0.0035124712, 0...        9  \n",
              "10  [[0.026845466, -6.2143e-05, 0.020229004, 0.006...       10  \n",
              "11  [[0.0014463413, -0.0002404639, 0.00015440256, ...       11  \n",
              "12  [[0.0007534189, -0.0004926382, 0.02172059, 0.0...       12  \n",
              "13  [[0.0005897805, 1.5893196e-05, 0.016293602, 0....       13  \n",
              "14  [[0.004045804, 1.948907e-05, 0.00090207334, 0....       14  \n",
              "15  [[0.005944965, -0.00010063578, 0.0004112802, 0...       15  \n",
              "16  [[0.038175356, -2.1832363e-06, 0.0016906084, 0...       16  \n",
              "17  [[0.04510033, -0.000107904234, 0.0011581773, 0...       17  \n",
              "18  [[4.087441e-05, -0.00014626811, 0.0027156281, ...       18  \n",
              "19  [[0.0013720348, 0.00016718791, -0.00057697005,...       19  \n",
              "20  [[-0.00028171466, -5.017797e-06, 0.0025408864,...       20  \n",
              "21  [[-0.00022283125, -1.6075468e-07, -3.29273e-05...       21  \n",
              "22  [[-0.0006373273, -0.00016060969, 0.0008426941,...       22  \n",
              "23  [[0.0029088948, -0.00011010115, 0.002297773, 0...       23  \n",
              "24  [[0.005001523, 6.0587172e-05, 0.013374463, 0.0...       24  \n",
              "25  [[0.024454314, -0.00027548725, 0.0030509303, 0...       25  \n",
              "26  [[-0.0008512927, 3.4700086e-06, 0.00091898453,...       26  \n",
              "27  [[-0.00068212196, 0.007072864, 0.004291064, 0....       27  \n",
              "28  [[0.007474771, -8.660019e-05, 0.00063981646, 0...       28  \n",
              "29  [[0.00541264, -0.00013155163, 0.0006037785, 0....       29  \n",
              "30  [[0.00053754513, 5.762974e-05, 0.002124471, 0....       30  \n",
              "31  [[0.038405973, -0.00017599107, 0.0071555534, 0...       31  \n",
              "32  [[0.006071743, -5.8373043e-05, 0.0041601746, 0...       32  \n",
              "33  [[0.011338596, -9.024682e-05, 0.012490797, 0.0...       33  \n",
              "34  [[0.0009840607, -0.00085574336, 0.001155418, 0...       34  \n",
              "35  [[0.0061172238, -0.0001422685, -0.00018344144,...       35  \n",
              "36  [[0.012044251, -1.680198e-07, -5.5838198e-05, ...       36  \n",
              "37  [[0.0050486433, 7.2513094e-06, 0.014373799, 0....       37  \n",
              "38  [[0.011328198, 0.006378296, 0.0040495796, 0.01...       38  \n",
              "39  [[0.0014387168, -3.871234e-07, 0.0034277102, 0...       39  \n",
              "40  [[0.0016367896, -0.00013264848, 0.0011800862, ...       40  \n",
              "41  [[0.014067072, -0.00011483547, -0.0008464994, ...       41  \n",
              "42  [[0.00068079686, -0.00023778112, 0.0035288103,...       42  \n",
              "43  [[-0.000113805545, 2.0503182e-06, 0.0036324253...       43  \n",
              "44  [[-0.00019234425, -3.0159446e-05, 0.0007748545...       44  \n",
              "45  [[0.0043340567, -0.00011185247, 0.0010994442, ...       45  \n",
              "46  [[0.030206732, -8.934332e-05, 0.0016241245, 0....       46  \n",
              "47  [[0.025397142, -7.965649e-05, -0.0013486091, 0...       47  \n",
              "48  [[0.0063387877, -3.62489e-05, 0.0010491504, 0....       48  \n",
              "49  [[0.0016411934, -2.2295999e-05, 0.0022327937, ...       49  "
            ],
            "text/html": [
              "\n",
              "  <div id=\"df-57abdf18-9923-4b78-9e21-d0423659145c\">\n",
              "    <div class=\"colab-df-container\">\n",
              "      <div>\n",
              "<style scoped>\n",
              "    .dataframe tbody tr th:only-of-type {\n",
              "        vertical-align: middle;\n",
              "    }\n",
              "\n",
              "    .dataframe tbody tr th {\n",
              "        vertical-align: top;\n",
              "    }\n",
              "\n",
              "    .dataframe thead th {\n",
              "        text-align: right;\n",
              "    }\n",
              "</style>\n",
              "<table border=\"1\" class=\"dataframe\">\n",
              "  <thead>\n",
              "    <tr style=\"text-align: right;\">\n",
              "      <th></th>\n",
              "      <th>input_text</th>\n",
              "      <th>vector</th>\n",
              "      <th>input_id</th>\n",
              "    </tr>\n",
              "  </thead>\n",
              "  <tbody>\n",
              "    <tr>\n",
              "      <th>0</th>\n",
              "      <td>باید حقوق دیگران را رعایت کنیم</td>\n",
              "      <td>[[0.037471067, -0.0001683702, 0.0028694319, 0....</td>\n",
              "      <td>0</td>\n",
              "    </tr>\n",
              "    <tr>\n",
              "      <th>1</th>\n",
              "      <td>ادب یکی از صفات اخلاقی نیکو است که انسان باید ...</td>\n",
              "      <td>[[0.011196222, -0.00018183743, 0.0030824505, 0...</td>\n",
              "      <td>1</td>\n",
              "    </tr>\n",
              "    <tr>\n",
              "      <th>2</th>\n",
              "      <td>ما باید از غیبت کردن پرهیز کنیم</td>\n",
              "      <td>[[0.0028385492, -0.00040278648, 0.0038774477, ...</td>\n",
              "      <td>2</td>\n",
              "    </tr>\n",
              "    <tr>\n",
              "      <th>3</th>\n",
              "      <td>باید خاک وطن را دوست داشت</td>\n",
              "      <td>[[0.002940607, -0.00023007995, 0.0004807298, 0...</td>\n",
              "      <td>3</td>\n",
              "    </tr>\n",
              "    <tr>\n",
              "      <th>4</th>\n",
              "      <td>نباید براساس ظاهر افراد را قضاوت کرد</td>\n",
              "      <td>[[0.0054349084, -0.00022610718, -0.0007558833,...</td>\n",
              "      <td>4</td>\n",
              "    </tr>\n",
              "    <tr>\n",
              "      <th>5</th>\n",
              "      <td>باید تجارب خود را به افراد دیگر منتقل کنیم</td>\n",
              "      <td>[[0.028444888, -0.00019038924, 0.0032034372, 0...</td>\n",
              "      <td>5</td>\n",
              "    </tr>\n",
              "    <tr>\n",
              "      <th>6</th>\n",
              "      <td>تفاوت قائل شدن بین انسان‌ها درست است</td>\n",
              "      <td>[[0.01777368, -0.00015634771, 0.0023267695, 0....</td>\n",
              "      <td>6</td>\n",
              "    </tr>\n",
              "    <tr>\n",
              "      <th>7</th>\n",
              "      <td>ثروت چیز خوبی است</td>\n",
              "      <td>[[0.000940095, -3.025543e-06, 0.002245485, 0.0...</td>\n",
              "      <td>7</td>\n",
              "    </tr>\n",
              "    <tr>\n",
              "      <th>8</th>\n",
              "      <td>باید قبل از سخن گفتن فکر کرد.</td>\n",
              "      <td>[[0.0033361597, -0.00017175634, 0.00010727477,...</td>\n",
              "      <td>8</td>\n",
              "    </tr>\n",
              "    <tr>\n",
              "      <th>9</th>\n",
              "      <td>باید قدردان دارایی‌های خودمان باشیم</td>\n",
              "      <td>[[0.0065571917, -0.0001124546, 0.0035124712, 0...</td>\n",
              "      <td>9</td>\n",
              "    </tr>\n",
              "    <tr>\n",
              "      <th>10</th>\n",
              "      <td>نباید عیبی که خودمان داریم را به دیگران نسبت دهیم</td>\n",
              "      <td>[[0.026845466, -6.2143e-05, 0.020229004, 0.006...</td>\n",
              "      <td>10</td>\n",
              "    </tr>\n",
              "    <tr>\n",
              "      <th>11</th>\n",
              "      <td>باید به یتیمان کمک کرد</td>\n",
              "      <td>[[0.0014463413, -0.0002404639, 0.00015440256, ...</td>\n",
              "      <td>11</td>\n",
              "    </tr>\n",
              "    <tr>\n",
              "      <th>12</th>\n",
              "      <td>انسان واقعی در برابر ظلم سکوت نمی‌کند</td>\n",
              "      <td>[[0.0007534189, -0.0004926382, 0.02172059, 0.0...</td>\n",
              "      <td>12</td>\n",
              "    </tr>\n",
              "    <tr>\n",
              "      <th>13</th>\n",
              "      <td>باید بخشنده باشیم</td>\n",
              "      <td>[[0.0005897805, 1.5893196e-05, 0.016293602, 0....</td>\n",
              "      <td>13</td>\n",
              "    </tr>\n",
              "    <tr>\n",
              "      <th>14</th>\n",
              "      <td>باید حق‌جو وعدالت‌پیشه باشیم</td>\n",
              "      <td>[[0.004045804, 1.948907e-05, 0.00090207334, 0....</td>\n",
              "      <td>14</td>\n",
              "    </tr>\n",
              "    <tr>\n",
              "      <th>15</th>\n",
              "      <td>کنترل نکردن زبان انسان را بی‌ارزش می‌کند.</td>\n",
              "      <td>[[0.005944965, -0.00010063578, 0.0004112802, 0...</td>\n",
              "      <td>15</td>\n",
              "    </tr>\n",
              "    <tr>\n",
              "      <th>16</th>\n",
              "      <td>نباید از دیگران درخواست های متعدد داشت</td>\n",
              "      <td>[[0.038175356, -2.1832363e-06, 0.0016906084, 0...</td>\n",
              "      <td>16</td>\n",
              "    </tr>\n",
              "    <tr>\n",
              "      <th>17</th>\n",
              "      <td>آزار دیگران یکی از صفات مذموم است که باید از آ...</td>\n",
              "      <td>[[0.04510033, -0.000107904234, 0.0011581773, 0...</td>\n",
              "      <td>17</td>\n",
              "    </tr>\n",
              "    <tr>\n",
              "      <th>18</th>\n",
              "      <td>نباید اندوهگین شد</td>\n",
              "      <td>[[4.087441e-05, -0.00014626811, 0.0027156281, ...</td>\n",
              "      <td>18</td>\n",
              "    </tr>\n",
              "    <tr>\n",
              "      <th>19</th>\n",
              "      <td>باید اهل یادگیری و دانش باشیم</td>\n",
              "      <td>[[0.0013720348, 0.00016718791, -0.00057697005,...</td>\n",
              "      <td>19</td>\n",
              "    </tr>\n",
              "    <tr>\n",
              "      <th>20</th>\n",
              "      <td>باید مهربان بود</td>\n",
              "      <td>[[-0.00028171466, -5.017797e-06, 0.0025408864,...</td>\n",
              "      <td>20</td>\n",
              "    </tr>\n",
              "    <tr>\n",
              "      <th>21</th>\n",
              "      <td>آخرت را بر دنیا باید ترجیح داد</td>\n",
              "      <td>[[-0.00022283125, -1.6075468e-07, -3.29273e-05...</td>\n",
              "      <td>21</td>\n",
              "    </tr>\n",
              "    <tr>\n",
              "      <th>22</th>\n",
              "      <td>میزان موفقیت به اندازه میزان رنج و تلاش است</td>\n",
              "      <td>[[-0.0006373273, -0.00016060969, 0.0008426941,...</td>\n",
              "      <td>22</td>\n",
              "    </tr>\n",
              "    <tr>\n",
              "      <th>23</th>\n",
              "      <td>باید فرزندان خود را به خوبی تربیت کنیم</td>\n",
              "      <td>[[0.0029088948, -0.00011010115, 0.002297773, 0...</td>\n",
              "      <td>23</td>\n",
              "    </tr>\n",
              "    <tr>\n",
              "      <th>24</th>\n",
              "      <td>باید در برابر مشکلات استقامت داشته باشیم</td>\n",
              "      <td>[[0.005001523, 6.0587172e-05, 0.013374463, 0.0...</td>\n",
              "      <td>24</td>\n",
              "    </tr>\n",
              "    <tr>\n",
              "      <th>25</th>\n",
              "      <td>بخشی از زمان هر روز را باید به تفریح و بخش دیگ...</td>\n",
              "      <td>[[0.024454314, -0.00027548725, 0.0030509303, 0...</td>\n",
              "      <td>25</td>\n",
              "    </tr>\n",
              "    <tr>\n",
              "      <th>26</th>\n",
              "      <td>انسان نباید فخر فروشی داشته باشد.</td>\n",
              "      <td>[[-0.0008512927, 3.4700086e-06, 0.00091898453,...</td>\n",
              "      <td>26</td>\n",
              "    </tr>\n",
              "    <tr>\n",
              "      <th>27</th>\n",
              "      <td>در کار خیر باید شتاب کرد و بدی را به تاخیر اند...</td>\n",
              "      <td>[[-0.00068212196, 0.007072864, 0.004291064, 0....</td>\n",
              "      <td>27</td>\n",
              "    </tr>\n",
              "    <tr>\n",
              "      <th>28</th>\n",
              "      <td>باید شکرگزار باشیم</td>\n",
              "      <td>[[0.007474771, -8.660019e-05, 0.00063981646, 0...</td>\n",
              "      <td>28</td>\n",
              "    </tr>\n",
              "    <tr>\n",
              "      <th>29</th>\n",
              "      <td>باید به زیر دستان احترام گذاشت</td>\n",
              "      <td>[[0.00541264, -0.00013155163, 0.0006037785, 0....</td>\n",
              "      <td>29</td>\n",
              "    </tr>\n",
              "    <tr>\n",
              "      <th>30</th>\n",
              "      <td>نباید مغرور باشیم</td>\n",
              "      <td>[[0.00053754513, 5.762974e-05, 0.002124471, 0....</td>\n",
              "      <td>30</td>\n",
              "    </tr>\n",
              "    <tr>\n",
              "      <th>31</th>\n",
              "      <td>باید خطاهای دیگران را ببخشیم</td>\n",
              "      <td>[[0.038405973, -0.00017599107, 0.0071555534, 0...</td>\n",
              "      <td>31</td>\n",
              "    </tr>\n",
              "    <tr>\n",
              "      <th>32</th>\n",
              "      <td>باید کم گویی کرد</td>\n",
              "      <td>[[0.006071743, -5.8373043e-05, 0.0041601746, 0...</td>\n",
              "      <td>32</td>\n",
              "    </tr>\n",
              "    <tr>\n",
              "      <th>33</th>\n",
              "      <td>نباید در خوردن زیاده‌روی کرد</td>\n",
              "      <td>[[0.011338596, -9.024682e-05, 0.012490797, 0.0...</td>\n",
              "      <td>33</td>\n",
              "    </tr>\n",
              "    <tr>\n",
              "      <th>34</th>\n",
              "      <td>باید به قلب و احساسات توجه کرد</td>\n",
              "      <td>[[0.0009840607, -0.00085574336, 0.001155418, 0...</td>\n",
              "      <td>34</td>\n",
              "    </tr>\n",
              "    <tr>\n",
              "      <th>35</th>\n",
              "      <td>مردم را باید از کارهای بد باز داشت</td>\n",
              "      <td>[[0.0061172238, -0.0001422685, -0.00018344144,...</td>\n",
              "      <td>35</td>\n",
              "    </tr>\n",
              "    <tr>\n",
              "      <th>36</th>\n",
              "      <td>باید اهل یاری کردن یکدیگر بود</td>\n",
              "      <td>[[0.012044251, -1.680198e-07, -5.5838198e-05, ...</td>\n",
              "      <td>36</td>\n",
              "    </tr>\n",
              "    <tr>\n",
              "      <th>37</th>\n",
              "      <td>باید در هنگام پیمان بستن دقت کنیم</td>\n",
              "      <td>[[0.0050486433, 7.2513094e-06, 0.014373799, 0....</td>\n",
              "      <td>37</td>\n",
              "    </tr>\n",
              "    <tr>\n",
              "      <th>38</th>\n",
              "      <td>در انتخاب دوست باید دقت کنیم</td>\n",
              "      <td>[[0.011328198, 0.006378296, 0.0040495796, 0.01...</td>\n",
              "      <td>38</td>\n",
              "    </tr>\n",
              "    <tr>\n",
              "      <th>39</th>\n",
              "      <td>باید وفای به عهد داشته باشیم</td>\n",
              "      <td>[[0.0014387168, -3.871234e-07, 0.0034277102, 0...</td>\n",
              "      <td>39</td>\n",
              "    </tr>\n",
              "    <tr>\n",
              "      <th>40</th>\n",
              "      <td>باید سعی کنیم نیکو عمل کنیم</td>\n",
              "      <td>[[0.0016367896, -0.00013264848, 0.0011800862, ...</td>\n",
              "      <td>40</td>\n",
              "    </tr>\n",
              "    <tr>\n",
              "      <th>41</th>\n",
              "      <td>صبر یکی از صفات خردمندان است</td>\n",
              "      <td>[[0.014067072, -0.00011483547, -0.0008464994, ...</td>\n",
              "      <td>41</td>\n",
              "    </tr>\n",
              "    <tr>\n",
              "      <th>42</th>\n",
              "      <td>باید سختی‌ها را تحمل کرد</td>\n",
              "      <td>[[0.00068079686, -0.00023778112, 0.0035288103,...</td>\n",
              "      <td>42</td>\n",
              "    </tr>\n",
              "    <tr>\n",
              "      <th>43</th>\n",
              "      <td>ما باید راست بگوییم حتی اگر به ضرر ما باشد و ن...</td>\n",
              "      <td>[[-0.000113805545, 2.0503182e-06, 0.0036324253...</td>\n",
              "      <td>43</td>\n",
              "    </tr>\n",
              "    <tr>\n",
              "      <th>44</th>\n",
              "      <td>باید خسیس باشیم</td>\n",
              "      <td>[[-0.00019234425, -3.0159446e-05, 0.0007748545...</td>\n",
              "      <td>44</td>\n",
              "    </tr>\n",
              "    <tr>\n",
              "      <th>45</th>\n",
              "      <td>باید به پدر و مادر احترام گذاشت</td>\n",
              "      <td>[[0.0043340567, -0.00011185247, 0.0010994442, ...</td>\n",
              "      <td>45</td>\n",
              "    </tr>\n",
              "    <tr>\n",
              "      <th>46</th>\n",
              "      <td>نباید عیب دیگران را بر ملا کنیم</td>\n",
              "      <td>[[0.030206732, -8.934332e-05, 0.0016241245, 0....</td>\n",
              "      <td>46</td>\n",
              "    </tr>\n",
              "    <tr>\n",
              "      <th>47</th>\n",
              "      <td>هرکاری را می‌توان انجام داد به جز تغییر عادت‌ها</td>\n",
              "      <td>[[0.025397142, -7.965649e-05, -0.0013486091, 0...</td>\n",
              "      <td>47</td>\n",
              "    </tr>\n",
              "    <tr>\n",
              "      <th>48</th>\n",
              "      <td>باید از منافق دوری کنیم</td>\n",
              "      <td>[[0.0063387877, -3.62489e-05, 0.0010491504, 0....</td>\n",
              "      <td>48</td>\n",
              "    </tr>\n",
              "    <tr>\n",
              "      <th>49</th>\n",
              "      <td>لزوما رسیدن به چیزی که آرزو داریم به نفع ما نیست</td>\n",
              "      <td>[[0.0016411934, -2.2295999e-05, 0.0022327937, ...</td>\n",
              "      <td>49</td>\n",
              "    </tr>\n",
              "  </tbody>\n",
              "</table>\n",
              "</div>\n",
              "      <button class=\"colab-df-convert\" onclick=\"convertToInteractive('df-57abdf18-9923-4b78-9e21-d0423659145c')\"\n",
              "              title=\"Convert this dataframe to an interactive table.\"\n",
              "              style=\"display:none;\">\n",
              "        \n",
              "  <svg xmlns=\"http://www.w3.org/2000/svg\" height=\"24px\"viewBox=\"0 0 24 24\"\n",
              "       width=\"24px\">\n",
              "    <path d=\"M0 0h24v24H0V0z\" fill=\"none\"/>\n",
              "    <path d=\"M18.56 5.44l.94 2.06.94-2.06 2.06-.94-2.06-.94-.94-2.06-.94 2.06-2.06.94zm-11 1L8.5 8.5l.94-2.06 2.06-.94-2.06-.94L8.5 2.5l-.94 2.06-2.06.94zm10 10l.94 2.06.94-2.06 2.06-.94-2.06-.94-.94-2.06-.94 2.06-2.06.94z\"/><path d=\"M17.41 7.96l-1.37-1.37c-.4-.4-.92-.59-1.43-.59-.52 0-1.04.2-1.43.59L10.3 9.45l-7.72 7.72c-.78.78-.78 2.05 0 2.83L4 21.41c.39.39.9.59 1.41.59.51 0 1.02-.2 1.41-.59l7.78-7.78 2.81-2.81c.8-.78.8-2.07 0-2.86zM5.41 20L4 18.59l7.72-7.72 1.47 1.35L5.41 20z\"/>\n",
              "  </svg>\n",
              "      </button>\n",
              "      \n",
              "  <style>\n",
              "    .colab-df-container {\n",
              "      display:flex;\n",
              "      flex-wrap:wrap;\n",
              "      gap: 12px;\n",
              "    }\n",
              "\n",
              "    .colab-df-convert {\n",
              "      background-color: #E8F0FE;\n",
              "      border: none;\n",
              "      border-radius: 50%;\n",
              "      cursor: pointer;\n",
              "      display: none;\n",
              "      fill: #1967D2;\n",
              "      height: 32px;\n",
              "      padding: 0 0 0 0;\n",
              "      width: 32px;\n",
              "    }\n",
              "\n",
              "    .colab-df-convert:hover {\n",
              "      background-color: #E2EBFA;\n",
              "      box-shadow: 0px 1px 2px rgba(60, 64, 67, 0.3), 0px 1px 3px 1px rgba(60, 64, 67, 0.15);\n",
              "      fill: #174EA6;\n",
              "    }\n",
              "\n",
              "    [theme=dark] .colab-df-convert {\n",
              "      background-color: #3B4455;\n",
              "      fill: #D2E3FC;\n",
              "    }\n",
              "\n",
              "    [theme=dark] .colab-df-convert:hover {\n",
              "      background-color: #434B5C;\n",
              "      box-shadow: 0px 1px 3px 1px rgba(0, 0, 0, 0.15);\n",
              "      filter: drop-shadow(0px 1px 2px rgba(0, 0, 0, 0.3));\n",
              "      fill: #FFFFFF;\n",
              "    }\n",
              "  </style>\n",
              "\n",
              "      <script>\n",
              "        const buttonEl =\n",
              "          document.querySelector('#df-57abdf18-9923-4b78-9e21-d0423659145c button.colab-df-convert');\n",
              "        buttonEl.style.display =\n",
              "          google.colab.kernel.accessAllowed ? 'block' : 'none';\n",
              "\n",
              "        async function convertToInteractive(key) {\n",
              "          const element = document.querySelector('#df-57abdf18-9923-4b78-9e21-d0423659145c');\n",
              "          const dataTable =\n",
              "            await google.colab.kernel.invokeFunction('convertToInteractive',\n",
              "                                                     [key], {});\n",
              "          if (!dataTable) return;\n",
              "\n",
              "          const docLinkHtml = 'Like what you see? Visit the ' +\n",
              "            '<a target=\"_blank\" href=https://colab.research.google.com/notebooks/data_table.ipynb>data table notebook</a>'\n",
              "            + ' to learn more about interactive tables.';\n",
              "          element.innerHTML = '';\n",
              "          dataTable['output_type'] = 'display_data';\n",
              "          await google.colab.output.renderOutput(dataTable, element);\n",
              "          const docLink = document.createElement('div');\n",
              "          docLink.innerHTML = docLinkHtml;\n",
              "          element.appendChild(docLink);\n",
              "        }\n",
              "      </script>\n",
              "    </div>\n",
              "  </div>\n",
              "  "
            ]
          },
          "metadata": {},
          "execution_count": 10
        }
      ],
      "source": [
        "input_table"
      ]
    },
    {
      "cell_type": "markdown",
      "metadata": {
        "id": "3FwD6hHHv_1o"
      },
      "source": [
        "# Output dataset embedding\n",
        "\n",
        "\n"
      ]
    },
    {
      "cell_type": "markdown",
      "source": [
        "**Selecting datasets**\n",
        "\n",
        "create a list of selected datasets for embedding"
      ],
      "metadata": {
        "id": "4TgsK9R0_MCA"
      }
    },
    {
      "cell_type": "code",
      "source": [
        "normalized_dataset_list = [\"poem\", \"quotes\", \"nahj\", \"hafez\", \"shams\"]\n",
        "farsi_dataset_list = [\"poem\", \"hafez\", \"shams\"]\n",
        "\n",
        "# Creat a list of sources for each data set. Indexes should match with dataset list\n",
        "normalized_data_source_list = [\"تک بیتی‌های فارسی\", \"نقل قول از نویسندگان انگلیسی\", \"حکمت‌های نهج البلاغه\", \"غزلیات حافظ\", \"غزلیات شمس\"]"
      ],
      "metadata": {
        "id": "rT9P1A8vwUwr"
      },
      "execution_count": 32,
      "outputs": []
    },
    {
      "cell_type": "code",
      "execution_count": null,
      "metadata": {
        "id": "8_ScUATev_RD"
      },
      "outputs": [],
      "source": [
        "n = 0\n",
        "for dataset_name in normalized_dataset_list:\n",
        "  normalized_dataset = pd.read_csv(data_set_root + normalized_dataset_list[n] + \"/\" + normalized_dataset_list[n] + \"_normalized.csv\")\n",
        "  columns = [\"output_text\" , \"vector\", \"output_data_source\",\"index\", \"output_id\"]\n",
        "  locals()[normalized_dataset_list[n]+ (\"_table\")] = pd.DataFrame([], columns=columns)\n",
        "  for i in range(0, len(normalized_dataset)):\n",
        "    locals()[normalized_dataset_list[n] + (\"_table\")] = locals()[normalized_dataset_list[n] + (\"_table\")].append({'output_text':normalized_dataset[\"output_text\"][i],'vector':laser.embed_sentences(normalized_dataset[\"output_text\"][i], 'en'), 'output_data_source':normalized_data_source_list[n], 'index':i, 'output_id': normalized_dataset[\"output_id\"][i] }, ignore_index = True)\n",
        "  n+=1"
      ]
    },
    {
      "cell_type": "markdown",
      "source": [
        "Saving output tables to .csv format"
      ],
      "metadata": {
        "id": "xP__Hklz7hRJ"
      }
    },
    {
      "cell_type": "code",
      "source": [
        "pd.DataFrame(poem_table).to_csv(data_set_root+ \"LASER_output/poem.csv\")\n",
        "pd.DataFrame(quotes_table).to_csv(data_set_root+ \"LASER_output/quotes.csv\")\n",
        "pd.DataFrame(nahj_table).to_csv(data_set_root+ \"LASER_output/nahj.csv\")\n",
        "pd.DataFrame(hafez_table).to_csv(data_set_root+ \"LASER_output/hafez.csv\")\n",
        "pd.DataFrame(shams_table).to_csv(data_set_root+ \"LASER_output/shams.csv\")"
      ],
      "metadata": {
        "id": "_3vEBHUh7rJ8"
      },
      "execution_count": null,
      "outputs": []
    },
    {
      "cell_type": "markdown",
      "source": [
        "# KNN Function\n",
        "\n",
        "Similarity criterion: Cosine similarity"
      ],
      "metadata": {
        "id": "Y5W9meLC9QGk"
      }
    },
    {
      "cell_type": "code",
      "source": [
        "def create_pair_cosine_knn(k,model_name,output_data_source,input_table,output_table):\n",
        "  columns = [\"model\", \"input_id\", \"input_text\", \"output_id\", \"output_text\", \"k\" ,\"input_vector\", \"output_vector\"]\n",
        "  pair_table = pd.DataFrame([], columns=columns)\n",
        "  model = NearestNeighbors(n_neighbors=k,\n",
        "                          metric='cosine',\n",
        "                          algorithm='brute',\n",
        "                          n_jobs=-1)\n",
        "  x = []\n",
        "  # Convert out put to array\n",
        "  for i in range (0, len(output_table)):\n",
        "    x.append(output_table[\"vector\"][i][0])\n",
        "\n",
        "  model.fit(x)\n",
        "\n",
        "  for n in range(0, len(input_table)):\n",
        "    v = input_table[\"vector\"][n]\n",
        "    for j in range(0, k):\n",
        "      output_data_source_index = str(model.kneighbors(v, k, return_distance=False)[0][j])\n",
        "      output_data_source_compelete = str(output_data_source) + \" => \" + output_data_source_index\n",
        "      input_text = input_table['input_text'][n]\n",
        "      input_id = input_table['input_id'][n]\n",
        "      output_id = output_table[\"output_id\"][model.kneighbors(v, k, return_distance=False)[0][j]]\n",
        "      output_text = output_table[\"output_text\"][model.kneighbors(v, k, return_distance=False)[0][j]]\n",
        "      output_vector = output_table[\"vector\"][model.kneighbors(v, k, return_distance=False)[0][j]]\n",
        "      pair_table = pair_table.append({'model':model_name, 'input_id':input_id, \"input_text\":input_text, 'output_id':output_id, \"output_text\":output_text, 'k': j + 1 , \"input_vector\":v, \"output_vector\":output_vector}, ignore_index = True)\n",
        "  return pair_table\n"
      ],
      "metadata": {
        "id": "OnOa_EGzv5Rz"
      },
      "execution_count": 11,
      "outputs": []
    },
    {
      "cell_type": "markdown",
      "source": [
        "# Creating the pairs\n",
        "\n",
        "Finding **k** nearenst neighbers for each input.\n",
        "\n",
        "**k** is:\n",
        "\n",
        "3 for single-verse poems\n",
        "\n",
        "2 for moulvi poem \n",
        "\n",
        "2 for hafez poem\n",
        "\n",
        "2 for English quotes\n",
        "\n",
        "1 for Nahj-Al-Balagha quotes"
      ],
      "metadata": {
        "id": "nD1cxNJzEsJW"
      }
    },
    {
      "cell_type": "code",
      "execution_count": null,
      "metadata": {
        "id": "GJRzoPw6Gvt9"
      },
      "outputs": [],
      "source": [
        "poem_pairs =  create_pair_cosine_knn(3,\"LASER\",\"تک‌بیتی‌های فارسی\",input_table, poem_table)\n",
        "nahj_pairs = create_pair_cosine_knn(1,\"LASER\",\"حکمت‌های نهج‌البلاغه\",input_table, nahj_table)\n",
        "quotes_pairs = create_pair_cosine_knn(2,\"LASER\",\"نقل قول از نویسندگان انگلیسی زبان\",input_table, quotes_table)\n",
        "hafez_pairs = create_pair_cosine_knn(2,\"LASER\",\"غزلیات حافظ\",input_table, hafez_table)\n",
        "shams_pairs =  create_pair_cosine_knn(2,\"LASER\",\"غزلیات شمس\",input_table, shams_table)"
      ]
    },
    {
      "cell_type": "markdown",
      "source": [
        "Saving pairs to .csv file"
      ],
      "metadata": {
        "id": "VfsaxaLd_Dx7"
      }
    },
    {
      "cell_type": "code",
      "source": [
        "pd.DataFrame(hafez_pairs).to_csv( data_set_root + \"LASER_output/hafez_pairs.csv\")\n",
        "pd.DataFrame(quotes_pairs).to_csv( data_set_root + \"LASER_output/quote_pairs.csv\")\n",
        "pd.DataFrame(nahj_pairs).to_csv( data_set_root + \"LASER_output/nahj_pairs.csv\")\n",
        "pd.DataFrame(poem_pairs).to_csv( data_set_root + \"LASER_output/tak_beit_pairs.csv\")\n",
        "pd.DataFrame(shams_pairs).to_csv( data_set_root + \"LASER_output/molavi_pairs.csv\")"
      ],
      "metadata": {
        "id": "4pa3k1eC_JJ1"
      },
      "execution_count": null,
      "outputs": []
    },
    {
      "cell_type": "markdown",
      "source": [
        "Integration of all created pairs"
      ],
      "metadata": {
        "id": "r35MzdwH_LxW"
      }
    },
    {
      "cell_type": "code",
      "source": [
        "columns = [\"model\", \"input_id\", \"input_text\", \"output_id\", \"output_text\", \"k\" ,\"input_vector\", \"output_vector\"]\n",
        "all_pairs = pd.DataFrame([], columns=columns)\n",
        "all_pairs = all_pairs.append(quotes_pairs,ignore_index=True)\n",
        "all_pairs = all_pairs.append(poem_pairs,ignore_index=True)\n",
        "all_pairs = all_pairs.append(nahj_pairs,ignore_index=True)\n",
        "all_pairs = all_pairs.append(hafez_pairs,ignore_index=True)\n",
        "all_pairs = all_pairs.append(shams_pairs,ignore_index=True)\n",
        "LASER_output_paris= all_pairs.sort_values(by=[\"input_id\", \"output_id\"])\n",
        "\n",
        "# Save the integrated table to a .csv file\n",
        "pd.DataFrame(LASER_output_paris).to_csv( data_set_root + \"LASER_output/laser_pairs_out.csv\")"
      ],
      "metadata": {
        "id": "uUBiMA1e_UqR"
      },
      "execution_count": null,
      "outputs": []
    },
    {
      "cell_type": "code",
      "source": [
        "LASER_output_paris"
      ],
      "metadata": {
        "id": "VLLRJTvt_rDa"
      },
      "execution_count": null,
      "outputs": []
    }
  ],
  "metadata": {
    "colab": {
      "provenance": []
    },
    "kernelspec": {
      "display_name": "Python 3",
      "name": "python3"
    },
    "language_info": {
      "name": "python"
    }
  },
  "nbformat": 4,
  "nbformat_minor": 0
}