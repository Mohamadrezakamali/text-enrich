{
 "cells": [
  {
   "cell_type": "code",
   "execution_count": null,
   "metadata": {},
   "outputs": [],
   "source": [
    "! python -m pip install statsmodels\n",
    "! pip install pandas"
   ]
  },
  {
   "cell_type": "code",
   "execution_count": 13,
   "metadata": {},
   "outputs": [],
   "source": [
    "import pandas as pd\n",
    "df = pd.DataFrame(data=[[0, 0, 2, 0, 0], [2, 0, 0, 0, 0],[0, 0, 0, 1, 1]], columns=(\"-2\", \"-1\", \"0\", \"1\", \"2\"))\n",
    "\n",
    "from statsmodels.stats.inter_rater import fleiss_kappa\n",
    "\n",
    "fleiss_kappa(df)"
   ]
  },
  {
   "cell_type": "code",
   "execution_count": null,
   "metadata": {},
   "outputs": [],
   "source": [
    "!‌ pip install -U scikit-learn"
   ]
  },
  {
   "cell_type": "code",
   "execution_count": 7,
   "metadata": {},
   "outputs": [
    {
     "data": {
      "text/plain": [
       "0.8181615409042062"
      ]
     },
     "execution_count": 7,
     "metadata": {},
     "output_type": "execute_result"
    }
   ],
   "source": [
    "import numpy as np\n",
    "from sklearn.metrics import ndcg_score\n",
    "\n",
    "\n",
    "# Ex. for query \"راست گفتن خوب است\", the indexes should [100, 20, 55, 61,...]\n",
    "# and their scores are [2, 1 ,1, 0, ...]. So, these are our true scores:\n",
    "true_score = np.asarray([[2, 1, 1, 0]])\n",
    "\n",
    "# Now, consider the LASER model outputs [20, 100 , 61, 55 ,...]\n",
    "# where their scores are [1, 2, 0, 0, ...]. So, these are our relavance scores:\n",
    "relevance_score  = np.asarray([[1, 2, 0, 1]])\n",
    "\n",
    "# now we calcualte the \n",
    "ndcg_score(true_score, relevance_score)\n",
    "\n",
    "# we can set k to truncate the sum; only top k answers contribute\n",
    "# dcg_score(true_relevance, scores, k=2)\n",
    "\n",
    "# now we have some ties in our prediction\n",
    "# scores = np.asarray([[1, 0, 0, 0, 1]])\n",
    "# by default ties are averaged, so here we get the average true\n",
    "# relevance of our top predictions: (10 + 5) / 2 = 7.5\n",
    "# dcg_score(true_relevance, scores, k=1)\n",
    "\n",
    "# we can choose to ignore ties for faster results, but only\n",
    "# if we know there aren't ties in our scores, otherwise we get\n",
    "# wrong results:\n",
    "# dcg_score(true_relevance, scores, k=1, ignore_ties=True)"
   ]
  }
 ],
 "metadata": {
  "kernelspec": {
   "display_name": "venv",
   "language": "python",
   "name": "python3"
  },
  "language_info": {
   "codemirror_mode": {
    "name": "ipython",
    "version": 3
   },
   "file_extension": ".py",
   "mimetype": "text/x-python",
   "name": "python",
   "nbconvert_exporter": "python",
   "pygments_lexer": "ipython3",
   "version": "3.9.12"
  },
  "orig_nbformat": 4
 },
 "nbformat": 4,
 "nbformat_minor": 2
}
