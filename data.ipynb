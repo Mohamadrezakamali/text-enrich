{
 "cells": [
  {
   "cell_type": "code",
   "execution_count": null,
   "metadata": {},
   "outputs": [],
   "source": [
    "! pip install pandas\n",
    "! pip install matplotlib\n",
    "! pip install textract"
   ]
  },
  {
   "cell_type": "code",
   "execution_count": null,
   "metadata": {},
   "outputs": [],
   "source": [
    "import pandas as pd\n",
    "\n",
    "f = lambda x: 1 if x=='به نفع' else -1\n",
    "df = pd.read_csv('./resources/nahj/meta-arguments-f.tsv',\n",
    "                 sep='\\t',\n",
    "                 usecols=['Argument ID', 'Conclusion Farsi', 'Premise Farsi', 'Stance Farsi'],\n",
    "                 index_col='Argument ID',\n",
    "                 converters={'Stance Farsi': f})\n",
    "\n",
    "df.rename(columns={\"Conclusion Farsi\": \"Conclusion\", \"Stance Farsi\": \"Score\", \"Premise Farsi\": \"Premise\"}, inplace=True)\n",
    "df = df.reindex(columns=[\"Conclusion\", \"Premise\", \"Score\"])\n",
    "\n",
    "df"
   ]
  },
  {
   "cell_type": "code",
   "execution_count": null,
   "metadata": {},
   "outputs": [],
   "source": [
    "df.hist()"
   ]
  },
  {
   "cell_type": "code",
   "execution_count": null,
   "metadata": {},
   "outputs": [],
   "source": [
    "df.to_csv('Nahj-Persion-Scored.csv')"
   ]
  },
  {
   "cell_type": "code",
   "execution_count": 76,
   "metadata": {},
   "outputs": [],
   "source": [
    "import re\n",
    "divan_shams_pattern = re.compile(r'\\n?\\s*\\d+\\s*?\\n')\n",
    "\n",
    "divan_shams_paths = [\n",
    "    './resources/moulavi/Divan e Shams 1-500.doc',\n",
    "    './resources/moulavi/Divan e Shams 501-1000.doc',\n",
    "    './resources/moulavi/Divan e Shams 1001-1500.doc',\n",
    "    './resources/moulavi/Divan e Shams 1501-2000.doc',\n",
    "    './resources/moulavi/Divan e Shams 2001-2500.doc',\n",
    "    './resources/moulavi/Divan e Shams 2501-3000.doc',\n",
    "    './resources/moulavi/Divan e Shams 3001-3229.doc'\n",
    "]\n"
   ]
  },
  {
   "cell_type": "code",
   "execution_count": 88,
   "metadata": {},
   "outputs": [],
   "source": [
    "import win32com.client\n",
    "import os\n",
    "\n",
    "word = win32com.client.Dispatch(\"Word.Application\")\n",
    "word.visible = False\n",
    "\n",
    "divan_shams_qazals_arr = []\n",
    "new_divan_shams_txt_fh = open('./datasets/moulavi/divane-e-shams.txt', \"w+\", encoding='utf-8')\n",
    "\n",
    "\n",
    "for path in divan_shams_paths:\n",
    "    # open the .doc file\n",
    "    full_path = os.path.abspath(path)\n",
    "    wb = word.Documents.Open(full_path)\n",
    "    doc = word.ActiveDocument\n",
    "    \n",
    "    # read the doc content\n",
    "    text = doc.Range().Text\n",
    "    doc.Close(False)\n",
    "    \n",
    "    # trim the additional parts to get just the poems\n",
    "    text = re.split(r'\\r\\s*?[\\-]+\\s*?\\r', text)[1]\n",
    "    \n",
    "    # write to the txt file\n",
    "    text = re.sub('\\r', '\\n', text)\n",
    "    \n",
    "    # add endline except the last file\n",
    "    if path != divan_shams_paths[-1]:\n",
    "        new_divan_shams_txt_fh.write(text+'\\n')\n",
    "    else:\n",
    "        new_divan_shams_txt_fh.write(text)\n",
    "    \n",
    "    # add to qazal arrays\n",
    "    divan_shams_qazals_arr.extend(divan_shams_pattern.split(text)[1:])\n",
    "\n",
    "# quit Word\n",
    "word.Quit()\n",
    "\n",
    "new_divan_shams_txt_fh.close()"
   ]
  },
  {
   "cell_type": "code",
   "execution_count": 79,
   "metadata": {},
   "outputs": [
    {
     "data": {
      "text/plain": [
       "['یا ولی نعمتی و سلطانی\\tسابق الحسن ما له ثانی',\n",
       " 'انت بحر تحیط بالدنیا\\tمدمن جوهر و مرجان',\n",
       " 'کان بنیان عبد کم خربا\\tرمنی هو و شید ارکانی',\n",
       " 'کیف هذاالجفا و انت وفا؟\\tکیف اردیتنی بنسیان',\n",
       " 'حیة البین کلما هاجت\\tلسعت مثل لسع ثعبان',\n",
       " 'ظل خدی مزعفرا کدرا\\tسال دمعی کمایع آن',\n",
       " 'ارع قلبا هواک ساکنه\\tلیس لی غیر عطفکم بانی',\n",
       " 'شمتت فی الشجون اعدائی\\tکم تباکوا علی اخوانی',\n",
       " 'یا محیطا بروحه الدنیا\\tانت بالروح حاضر دانی']"
      ]
     },
     "execution_count": 79,
     "metadata": {},
     "output_type": "execute_result"
    }
   ],
   "source": [
    "# \n",
    "divan_shams_qazals_arr[3228].split('\\n')"
   ]
  }
 ],
 "metadata": {
  "kernelspec": {
   "display_name": "venv",
   "language": "python",
   "name": "python3"
  },
  "language_info": {
   "codemirror_mode": {
    "name": "ipython",
    "version": 3
   },
   "file_extension": ".py",
   "mimetype": "text/x-python",
   "name": "python",
   "nbconvert_exporter": "python",
   "pygments_lexer": "ipython3",
   "version": "3.9.12"
  },
  "orig_nbformat": 4,
  "vscode": {
   "interpreter": {
    "hash": "7f131f6cc6d9177733235e059ebc6090c4d05a275400fc9b7c5653e6770df57f"
   }
  }
 },
 "nbformat": 4,
 "nbformat_minor": 2
}
